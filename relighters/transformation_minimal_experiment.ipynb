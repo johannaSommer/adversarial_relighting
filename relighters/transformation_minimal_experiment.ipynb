{
 "cells": [
  {
   "cell_type": "markdown",
   "source": [
    "## LUV experiment"
   ],
   "metadata": {
    "collapsed": false,
    "pycharm": {
     "name": "#%% md\n"
    }
   }
  },
  {
   "cell_type": "code",
   "execution_count": 7,
   "metadata": {
    "collapsed": true
   },
   "outputs": [
    {
     "name": "stdout",
     "output_type": "stream",
     "text": [
      "tensor([[[30.]],\n",
      "\n",
      "        [[40.]],\n",
      "\n",
      "        [[40.]]], requires_grad=True)\n",
      "rgb\n",
      "tensor([[[ 0.4206]],\n",
      "\n",
      "        [[ 0.2350]],\n",
      "\n",
      "        [[-0.2304]]], grad_fn=<StackBackward>)\n",
      "tensor([[[nan]],\n",
      "\n",
      "        [[nan]],\n",
      "\n",
      "        [[nan]]])\n"
     ]
    }
   ],
   "source": [
    "import torch\n",
    "from kornia import color\n",
    "from torch.autograd import Variable\n",
    "\n",
    "x = torch.tensor([[[30]],\n",
    "                 [[40]],\n",
    "                 [[40.]]])\n",
    "x = Variable(torch.FloatTensor(x), requires_grad=True)\n",
    "\n",
    "#x = torch.max(x, torch.tensor([[[1]],[[0]],[[0]]]) * 3.1)\n",
    "\n",
    "print(x)\n",
    "\n",
    "#l = color.rgb_to_luv(x)\n",
    "\n",
    "#print(x)\n",
    "\n",
    "x2 = color.luv_to_rgb(x)\n",
    "\n",
    "c = torch.clamp(x2, 0., 1.)\n",
    "\n",
    "print(\"rgb\")\n",
    "print(x2)\n",
    "\n",
    "c.backward(torch.ones(c.shape))\n",
    "\n",
    "print(x.grad)"
   ]
  },
  {
   "cell_type": "markdown",
   "source": [
    "## LAB Experiment"
   ],
   "metadata": {
    "collapsed": false,
    "pycharm": {
     "name": "#%% md\n"
    }
   }
  },
  {
   "cell_type": "code",
   "execution_count": 10,
   "outputs": [
    {
     "name": "stdout",
     "output_type": "stream",
     "text": [
      "tensor([[[ 5.]],\n",
      "\n",
      "        [[40.]],\n",
      "\n",
      "        [[40.]]], requires_grad=True)\n",
      "rgb\n",
      "tensor([[[2.6528e-01]],\n",
      "\n",
      "        [[1.2865e-10]],\n",
      "\n",
      "        [[1.2865e-10]]], grad_fn=<SliceBackward>)\n",
      "tensor([[[0.0073]],\n",
      "\n",
      "        [[0.0029]],\n",
      "\n",
      "        [[0.0008]]])\n"
     ]
    }
   ],
   "source": [
    "import torch\n",
    "from torch.autograd import Variable\n",
    "from kornia_lab import RgbToLab, LabToRgb\n",
    "\n",
    "r2l = RgbToLab()\n",
    "l2r = LabToRgb()\n",
    "\n",
    "x = torch.tensor([[[5]],\n",
    "                 [[40]],\n",
    "                 [[40.]]])\n",
    "x = Variable(torch.FloatTensor(x), requires_grad=True)\n",
    "\n",
    "#x = torch.max(x, torch.tensor([[[1]],[[0]],[[0]]]) * 3.1)\n",
    "\n",
    "print(x)\n",
    "\n",
    "#l = color.rgb_to_luv(x)\n",
    "#print(x)\n",
    "\n",
    "x2 = l2r.lab_to_rgb(x)\n",
    "\n",
    "#c = torch.clamp(x2, 0., 1.)\n",
    "c=x2\n",
    "\n",
    "print(\"rgb\")\n",
    "print(x2)\n",
    "\n",
    "c.backward(torch.ones(c.shape))\n",
    "\n",
    "print(x.grad)\n"
   ],
   "metadata": {
    "collapsed": false,
    "pycharm": {
     "name": "#%%\n"
    }
   }
  }
 ],
 "metadata": {
  "kernelspec": {
   "name": "pycharm-7de61c79",
   "language": "python",
   "display_name": "PyCharm (project-1)"
  },
  "language_info": {
   "codemirror_mode": {
    "name": "ipython",
    "version": 2
   },
   "file_extension": ".py",
   "mimetype": "text/x-python",
   "name": "python",
   "nbconvert_exporter": "python",
   "pygments_lexer": "ipython2",
   "version": "2.7.6"
  }
 },
 "nbformat": 4,
 "nbformat_minor": 0
}