{
 "cells": [
  {
   "cell_type": "code",
   "execution_count": 1,
   "metadata": {},
   "outputs": [
    {
     "name": "stdout",
     "output_type": "stream",
     "text": [
      "/home/jupyter/project-1/experiments\n",
      "/home/jupyter/project-1\n"
     ]
    }
   ],
   "source": [
    "import io\n",
    "import matplotlib.image as mpimg \n",
    "import matplotlib.pyplot as plt\n",
    "import numpy as np\n",
    "import os\n",
    "import os.path\n",
    "import pandas as pd\n",
    "import pickle\n",
    "import PIL\n",
    "import torch\n",
    "import torchvision\n",
    "import urllib\n",
    "import warnings\n",
    "import sys\n",
    "\n",
    "sys.path.append(os.path.join(os.path.dirname(os.path.realpath('__file__')), '..'))\n",
    "from attacks import eot_attack_evaluator\n",
    "from attacks import eot_attacks\n",
    "from attacks import utils\n",
    "from utils import labels_util\n",
    "\n",
    "# Disable annoying UserWarning caused by using nn.Upsample\n",
    "# in the relighting model.\n",
    "warnings.filterwarnings(\"ignore\", category=UserWarning) \n",
    "\n",
    "%load_ext autoreload\n",
    "%autoreload 2"
   ]
  },
  {
   "cell_type": "markdown",
   "metadata": {},
   "source": [
    "# I. PubFig10 + FaceNet + [multiilum | DPR] evaluation"
   ]
  },
  {
   "cell_type": "markdown",
   "metadata": {},
   "source": [
    "## I.a. Pretrained classifier"
   ]
  },
  {
   "cell_type": "code",
   "execution_count": 2,
   "metadata": {},
   "outputs": [],
   "source": [
    "pubfig_configs = [\n",
    "{\n",
    "    'dataset': 'pubfig10',\n",
    "    'dataset_mode': 'test',\n",
    "    'classif_model_name': 'pubfig_facenet',\n",
    "    'classif_mode': 'normal_pretrained',\n",
    "    'relight_model_name': 'multi_illumination_murmann',\n",
    "    \n",
    "    'relight_checkpoint_path': '../relighters/multi_illumination/'\\\n",
    "                               'checkpoints/relight/epoch_13.pth',\n",
    "    'relighter_eps': 1e-4,\n",
    "    'learning_rate': 0.02, \n",
    "    'num_iterations': 5, \n",
    "    'gamma': 1.4, \n",
    "    'epses': [0.1],\n",
    "    'attack_type': 'class_constrained_eot',\n",
    "    'targets': [1, 3],     # eg: [0, 8] Target: 'Aaron Eeckhart' for everyone besides himself, otherwise 'Quincy Jones'\n",
    "    'debugging': False,\n",
    "},\n",
    "{\n",
    "    'dataset': 'pubfig10',\n",
    "    'dataset_mode': 'test',\n",
    "    'classif_model_name': 'pubfig_facenet',\n",
    "    'classif_mode': 'normal_pretrained',\n",
    "    'relight_model_name': 'dpr',\n",
    "    \n",
    "    'relight_checkpoint_path': '../relighters/DPR/trained_model/trained_model_03.t7',\n",
    "    'learning_rate': 0.02, \n",
    "    'num_iterations': 5, \n",
    "    'epses': [0.1],\n",
    "    'attack_type': 'class_constrained_eot',\n",
    "    'targets': [1, 3],\n",
    "    'debugging': False,\n",
    "\n",
    "},\n",
    "]"
   ]
  },
  {
   "cell_type": "code",
   "execution_count": 3,
   "metadata": {},
   "outputs": [
    {
     "name": "stdout",
     "output_type": "stream",
     "text": [
      "Loading pretrained model!\n",
      "Training FaceNet on PubFig10\n",
      "Loss: 4.416989326477051\n",
      "Loss: 3.0674660205841064\n",
      "Loss: 1.9182120561599731\n",
      "Loss: 1.0724443197250366\n",
      "Loss: 0.5716734528541565\n",
      "Loss: 0.31933173537254333\n",
      "Loss: 0.19770081341266632\n",
      "Loss: 0.13704238831996918\n",
      "Loss: 0.10469187051057816\n",
      "Loss: 0.0860864594578743\n",
      "Loss: 0.07456889003515244\n",
      "Loss: 0.06693384796380997\n",
      "Loss: 0.06154981628060341\n",
      "Loss: 0.057539403438568115\n",
      "Loss: 0.054407328367233276\n",
      "Loss: 0.05186127871274948\n",
      "Loss: 0.049721382558345795\n",
      "Loss: 0.0478716604411602\n",
      "Loss: 0.046235714107751846\n",
      "Loss: 0.04476075619459152\n",
      "Loss: 0.04340910539031029\n",
      "Loss: 0.042153600603342056\n",
      "Loss: 0.040974292904138565\n",
      "Loss: 0.039856184273958206\n",
      "Loss: 0.038788214325904846\n",
      "Loss: 0.03776144981384277\n",
      "Loss: 0.03677068278193474\n",
      "Loss: 0.03581126034259796\n",
      "Loss: 0.034880708903074265\n",
      "Loss: 0.03397712856531143\n",
      "Loss: 0.033099595457315445\n",
      "Loss: 0.03224676474928856\n",
      "Loss: 0.03141796216368675\n",
      "Loss: 0.030612453818321228\n",
      "Loss: 0.029829541221261024\n",
      "Loss: 0.02906881831586361\n",
      "Loss: 0.02832951210439205\n",
      "Loss: 0.027611523866653442\n",
      "Loss: 0.026914259418845177\n",
      "Loss: 0.026237327605485916\n",
      "Loss: 0.025580378249287605\n",
      "Loss: 0.024943210184574127\n",
      "Loss: 0.024325383827090263\n",
      "Loss: 0.0237265657633543\n",
      "Loss: 0.023146575316786766\n",
      "Loss: 0.022585051134228706\n",
      "Loss: 0.022041644901037216\n",
      "Loss: 0.02151598036289215\n",
      "Loss: 0.021007725968956947\n",
      "Loss: 0.020516132935881615\n",
      "Loss: 0.020040864124894142\n",
      "Loss: 0.019581235945224762\n",
      "Loss: 0.019136851653456688\n",
      "Loss: 0.018707089126110077\n",
      "Loss: 0.018291641026735306\n",
      "Loss: 0.01789017580449581\n",
      "Loss: 0.01750207506120205\n",
      "Loss: 0.017126919701695442\n",
      "Loss: 0.016764061525464058\n",
      "Loss: 0.01641290821135044\n",
      "Loss: 0.016072817146778107\n",
      "Loss: 0.015743162482976913\n",
      "Loss: 0.015423589386045933\n",
      "Loss: 0.015113766305148602\n",
      "Loss: 0.014813466928899288\n",
      "Loss: 0.014522545970976353\n",
      "Loss: 0.014240996912121773\n",
      "Loss: 0.013968751765787601\n",
      "Loss: 0.013705862686038017\n",
      "Loss: 0.013452103361487389\n",
      "Loss: 0.013207356445491314\n",
      "Loss: 0.012971382588148117\n",
      "Loss: 0.012743724510073662\n",
      "Loss: 0.012524096295237541\n",
      "Loss: 0.012311924248933792\n",
      "Loss: 0.01210693921893835\n",
      "Loss: 0.011908582411706448\n",
      "Loss: 0.01171653252094984\n",
      "Loss: 0.011530403979122639\n",
      "Loss: 0.011349913664162159\n",
      "Loss: 0.01117488369345665\n",
      "Loss: 0.011005057021975517\n",
      "Loss: 0.01084040105342865\n",
      "Loss: 0.010680858977138996\n",
      "Loss: 0.010526285506784916\n",
      "Loss: 0.01037676353007555\n",
      "Loss: 0.01023219246417284\n",
      "Loss: 0.010092551819980145\n",
      "Loss: 0.009957818314433098\n",
      "Loss: 0.009827817790210247\n",
      "Loss: 0.00970245897769928\n",
      "Loss: 0.00958153698593378\n",
      "Loss: 0.009464875794947147\n",
      "Loss: 0.009352278895676136\n",
      "Loss: 0.009243501350283623\n",
      "Loss: 0.009138260968029499\n",
      "Loss: 0.00903642363846302\n",
      "Loss: 0.008937723934650421\n",
      "Loss: 0.008841941133141518\n",
      "Loss: 0.0087489178404212\n",
      "Loaded pretrained classifier: pubfig83_facenet.\n",
      "Loaded the relighter: dpr.\n",
      "--------------------------------------------------------------------\n",
      "eps:  0.1\n",
      "------------------------------------------------------------------------------\n"
     ]
    },
    {
     "data": {
      "image/png": "[encoded data removed]",
      "text/plain": [
       "<Figure size 432x288 with 1 Axes>"
      ]
     },
     "metadata": {
      "needs_background": "light"
     },
     "output_type": "display_data"
    },
    {
     "name": "stdout",
     "output_type": "stream",
     "text": [
      "Loading pretrained model!\n"
     ]
    },
    {
     "ename": "FileNotFoundError",
     "evalue": "[Errno 2] No such file or directory: '../models/facenet_model_pubfig10.pth'",
     "output_type": "error",
     "traceback": [
      "\u001b[0;31m---------------------------------------------------------------------------\u001b[0m",
      "\u001b[0;31mFileNotFoundError\u001b[0m                         Traceback (most recent call last)",
      "\u001b[0;32m<ipython-input-3-2c744a8fbd79>\u001b[0m in \u001b[0;36m<module>\u001b[0;34m\u001b[0m\n\u001b[1;32m      1\u001b[0m \u001b[0;32mfor\u001b[0m \u001b[0mconfig\u001b[0m \u001b[0;32min\u001b[0m \u001b[0mpubfig_configs\u001b[0m\u001b[0;34m:\u001b[0m\u001b[0;34m\u001b[0m\u001b[0;34m\u001b[0m\u001b[0m\n\u001b[0;32m----> 2\u001b[0;31m     \u001b[0mev\u001b[0m \u001b[0;34m=\u001b[0m \u001b[0meot_attack_evaluator\u001b[0m\u001b[0;34m.\u001b[0m\u001b[0mAttackEvaluator\u001b[0m\u001b[0;34m(\u001b[0m\u001b[0mconfig\u001b[0m\u001b[0;34m,\u001b[0m \u001b[0;34m'_results_last.csv'\u001b[0m\u001b[0;34m)\u001b[0m\u001b[0;34m\u001b[0m\u001b[0;34m\u001b[0m\u001b[0m\n\u001b[0m\u001b[1;32m      3\u001b[0m     \u001b[0mev\u001b[0m\u001b[0;34m.\u001b[0m\u001b[0mevaluate\u001b[0m\u001b[0;34m(\u001b[0m\u001b[0;34m)\u001b[0m\u001b[0;34m\u001b[0m\u001b[0;34m\u001b[0m\u001b[0m\n",
      "\u001b[0;32m~/project-1/attacks/eot_attack_evaluator.py\u001b[0m in \u001b[0;36m__init__\u001b[0;34m(self, config, results_csv_suffix)\u001b[0m\n\u001b[1;32m     28\u001b[0m         \u001b[0;31m# Load classification model and relighter.\u001b[0m\u001b[0;34m\u001b[0m\u001b[0;34m\u001b[0m\u001b[0;34m\u001b[0m\u001b[0m\n\u001b[1;32m     29\u001b[0m         self.classif_model = utils.load_classification_model(config['classif_model_name'], \n\u001b[0;32m---> 30\u001b[0;31m                                                              config['classif_mode'])\n\u001b[0m\u001b[1;32m     31\u001b[0m         self.relight_model = utils.load_relighting_model(config['relight_model_name'], \n\u001b[1;32m     32\u001b[0m                                                          config['relight_checkpoint_path'])\n",
      "\u001b[0;32m~/project-1/attacks/utils.py\u001b[0m in \u001b[0;36mload_classification_model\u001b[0;34m(model_name, mode)\u001b[0m\n\u001b[1;32m    219\u001b[0m     \u001b[0;32mif\u001b[0m \u001b[0mmode\u001b[0m \u001b[0;34m==\u001b[0m \u001b[0;34m'normal_pretrained'\u001b[0m\u001b[0;34m:\u001b[0m\u001b[0;34m\u001b[0m\u001b[0;34m\u001b[0m\u001b[0m\n\u001b[1;32m    220\u001b[0m         \u001b[0mprint\u001b[0m\u001b[0;34m(\u001b[0m\u001b[0;34m'Loading pretrained model!'\u001b[0m\u001b[0;34m)\u001b[0m\u001b[0;34m\u001b[0m\u001b[0;34m\u001b[0m\u001b[0m\n\u001b[0;32m--> 221\u001b[0;31m         \u001b[0mclassif_model\u001b[0m \u001b[0;34m=\u001b[0m \u001b[0mload_pretrained_classification_model\u001b[0m\u001b[0;34m(\u001b[0m\u001b[0mmodel_name\u001b[0m\u001b[0;34m)\u001b[0m\u001b[0;34m\u001b[0m\u001b[0;34m\u001b[0m\u001b[0m\n\u001b[0m\u001b[1;32m    222\u001b[0m \u001b[0;34m\u001b[0m\u001b[0m\n\u001b[1;32m    223\u001b[0m     \u001b[0;32melif\u001b[0m \u001b[0mmode\u001b[0m \u001b[0;34m==\u001b[0m \u001b[0;34m'adversarial_train'\u001b[0m\u001b[0;34m:\u001b[0m\u001b[0;34m\u001b[0m\u001b[0;34m\u001b[0m\u001b[0m\n",
      "\u001b[0;32m~/project-1/attacks/utils.py\u001b[0m in \u001b[0;36mload_pretrained_classification_model\u001b[0;34m(model_name)\u001b[0m\n\u001b[1;32m     48\u001b[0m         \u001b[0;31m# TODO(andreea): add the pretrained model on drive and download it here.\u001b[0m\u001b[0;34m\u001b[0m\u001b[0;34m\u001b[0m\u001b[0;34m\u001b[0m\u001b[0m\n\u001b[1;32m     49\u001b[0m         \u001b[0mclassif_model\u001b[0m \u001b[0;34m=\u001b[0m \u001b[0mFaceNet\u001b[0m\u001b[0;34m(\u001b[0m\u001b[0mnum_classes\u001b[0m\u001b[0;34m=\u001b[0m\u001b[0;36m10\u001b[0m\u001b[0;34m,\u001b[0m \u001b[0mload_model\u001b[0m\u001b[0;34m=\u001b[0m\u001b[0;32mFalse\u001b[0m\u001b[0;34m)\u001b[0m\u001b[0;34m\u001b[0m\u001b[0;34m\u001b[0m\u001b[0m\n\u001b[0;32m---> 50\u001b[0;31m         \u001b[0mclassif_model\u001b[0m\u001b[0;34m.\u001b[0m\u001b[0mmodel_classifier\u001b[0m\u001b[0;34m.\u001b[0m\u001b[0mload_state_dict\u001b[0m\u001b[0;34m(\u001b[0m\u001b[0mtorch\u001b[0m\u001b[0;34m.\u001b[0m\u001b[0mload\u001b[0m\u001b[0;34m(\u001b[0m\u001b[0;34m'../models/facenet_model_pubfig10.pth'\u001b[0m\u001b[0;34m)\u001b[0m\u001b[0;34m)\u001b[0m\u001b[0;34m\u001b[0m\u001b[0;34m\u001b[0m\u001b[0m\n\u001b[0m\u001b[1;32m     51\u001b[0m         \u001b[0mclassif_model\u001b[0m\u001b[0;34m.\u001b[0m\u001b[0mto\u001b[0m\u001b[0;34m(\u001b[0m\u001b[0;34m'cuda'\u001b[0m\u001b[0;34m)\u001b[0m\u001b[0;34m\u001b[0m\u001b[0;34m\u001b[0m\u001b[0m\n\u001b[1;32m     52\u001b[0m \u001b[0;34m\u001b[0m\u001b[0m\n",
      "\u001b[0;32m/opt/conda/lib/python3.7/site-packages/torch/serialization.py\u001b[0m in \u001b[0;36mload\u001b[0;34m(f, map_location, pickle_module, **pickle_load_args)\u001b[0m\n\u001b[1;32m    582\u001b[0m         \u001b[0mpickle_load_args\u001b[0m\u001b[0;34m[\u001b[0m\u001b[0;34m'encoding'\u001b[0m\u001b[0;34m]\u001b[0m \u001b[0;34m=\u001b[0m \u001b[0;34m'utf-8'\u001b[0m\u001b[0;34m\u001b[0m\u001b[0;34m\u001b[0m\u001b[0m\n\u001b[1;32m    583\u001b[0m \u001b[0;34m\u001b[0m\u001b[0m\n\u001b[0;32m--> 584\u001b[0;31m     \u001b[0;32mwith\u001b[0m \u001b[0m_open_file_like\u001b[0m\u001b[0;34m(\u001b[0m\u001b[0mf\u001b[0m\u001b[0;34m,\u001b[0m \u001b[0;34m'rb'\u001b[0m\u001b[0;34m)\u001b[0m \u001b[0;32mas\u001b[0m \u001b[0mopened_file\u001b[0m\u001b[0;34m:\u001b[0m\u001b[0;34m\u001b[0m\u001b[0;34m\u001b[0m\u001b[0m\n\u001b[0m\u001b[1;32m    585\u001b[0m         \u001b[0;32mif\u001b[0m \u001b[0m_is_zipfile\u001b[0m\u001b[0;34m(\u001b[0m\u001b[0mopened_file\u001b[0m\u001b[0;34m)\u001b[0m\u001b[0;34m:\u001b[0m\u001b[0;34m\u001b[0m\u001b[0;34m\u001b[0m\u001b[0m\n\u001b[1;32m    586\u001b[0m             \u001b[0;32mwith\u001b[0m \u001b[0m_open_zipfile_reader\u001b[0m\u001b[0;34m(\u001b[0m\u001b[0mf\u001b[0m\u001b[0;34m)\u001b[0m \u001b[0;32mas\u001b[0m \u001b[0mopened_zipfile\u001b[0m\u001b[0;34m:\u001b[0m\u001b[0;34m\u001b[0m\u001b[0;34m\u001b[0m\u001b[0m\n",
      "\u001b[0;32m/opt/conda/lib/python3.7/site-packages/torch/serialization.py\u001b[0m in \u001b[0;36m_open_file_like\u001b[0;34m(name_or_buffer, mode)\u001b[0m\n\u001b[1;32m    232\u001b[0m \u001b[0;32mdef\u001b[0m \u001b[0m_open_file_like\u001b[0m\u001b[0;34m(\u001b[0m\u001b[0mname_or_buffer\u001b[0m\u001b[0;34m,\u001b[0m \u001b[0mmode\u001b[0m\u001b[0;34m)\u001b[0m\u001b[0;34m:\u001b[0m\u001b[0;34m\u001b[0m\u001b[0;34m\u001b[0m\u001b[0m\n\u001b[1;32m    233\u001b[0m     \u001b[0;32mif\u001b[0m \u001b[0m_is_path\u001b[0m\u001b[0;34m(\u001b[0m\u001b[0mname_or_buffer\u001b[0m\u001b[0;34m)\u001b[0m\u001b[0;34m:\u001b[0m\u001b[0;34m\u001b[0m\u001b[0;34m\u001b[0m\u001b[0m\n\u001b[0;32m--> 234\u001b[0;31m         \u001b[0;32mreturn\u001b[0m \u001b[0m_open_file\u001b[0m\u001b[0;34m(\u001b[0m\u001b[0mname_or_buffer\u001b[0m\u001b[0;34m,\u001b[0m \u001b[0mmode\u001b[0m\u001b[0;34m)\u001b[0m\u001b[0;34m\u001b[0m\u001b[0;34m\u001b[0m\u001b[0m\n\u001b[0m\u001b[1;32m    235\u001b[0m     \u001b[0;32melse\u001b[0m\u001b[0;34m:\u001b[0m\u001b[0;34m\u001b[0m\u001b[0;34m\u001b[0m\u001b[0m\n\u001b[1;32m    236\u001b[0m         \u001b[0;32mif\u001b[0m \u001b[0;34m'w'\u001b[0m \u001b[0;32min\u001b[0m \u001b[0mmode\u001b[0m\u001b[0;34m:\u001b[0m\u001b[0;34m\u001b[0m\u001b[0;34m\u001b[0m\u001b[0m\n",
      "\u001b[0;32m/opt/conda/lib/python3.7/site-packages/torch/serialization.py\u001b[0m in \u001b[0;36m__init__\u001b[0;34m(self, name, mode)\u001b[0m\n\u001b[1;32m    213\u001b[0m \u001b[0;32mclass\u001b[0m \u001b[0m_open_file\u001b[0m\u001b[0;34m(\u001b[0m\u001b[0m_opener\u001b[0m\u001b[0;34m)\u001b[0m\u001b[0;34m:\u001b[0m\u001b[0;34m\u001b[0m\u001b[0;34m\u001b[0m\u001b[0m\n\u001b[1;32m    214\u001b[0m     \u001b[0;32mdef\u001b[0m \u001b[0m__init__\u001b[0m\u001b[0;34m(\u001b[0m\u001b[0mself\u001b[0m\u001b[0;34m,\u001b[0m \u001b[0mname\u001b[0m\u001b[0;34m,\u001b[0m \u001b[0mmode\u001b[0m\u001b[0;34m)\u001b[0m\u001b[0;34m:\u001b[0m\u001b[0;34m\u001b[0m\u001b[0;34m\u001b[0m\u001b[0m\n\u001b[0;32m--> 215\u001b[0;31m         \u001b[0msuper\u001b[0m\u001b[0;34m(\u001b[0m\u001b[0m_open_file\u001b[0m\u001b[0;34m,\u001b[0m \u001b[0mself\u001b[0m\u001b[0;34m)\u001b[0m\u001b[0;34m.\u001b[0m\u001b[0m__init__\u001b[0m\u001b[0;34m(\u001b[0m\u001b[0mopen\u001b[0m\u001b[0;34m(\u001b[0m\u001b[0mname\u001b[0m\u001b[0;34m,\u001b[0m \u001b[0mmode\u001b[0m\u001b[0;34m)\u001b[0m\u001b[0;34m)\u001b[0m\u001b[0;34m\u001b[0m\u001b[0;34m\u001b[0m\u001b[0m\n\u001b[0m\u001b[1;32m    216\u001b[0m \u001b[0;34m\u001b[0m\u001b[0m\n\u001b[1;32m    217\u001b[0m     \u001b[0;32mdef\u001b[0m \u001b[0m__exit__\u001b[0m\u001b[0;34m(\u001b[0m\u001b[0mself\u001b[0m\u001b[0;34m,\u001b[0m \u001b[0;34m*\u001b[0m\u001b[0margs\u001b[0m\u001b[0;34m)\u001b[0m\u001b[0;34m:\u001b[0m\u001b[0;34m\u001b[0m\u001b[0;34m\u001b[0m\u001b[0m\n",
      "\u001b[0;31mFileNotFoundError\u001b[0m: [Errno 2] No such file or directory: '../models/facenet_model_pubfig10.pth'"
     ]
    }
   ],
   "source": [
    "for config in pubfig_configs:\n",
    "    ev = eot_attack_evaluator.AttackEvaluator(config, '_results_last.csv')\n",
    "    ev.evaluate()"
   ]
  },
  {
   "cell_type": "markdown",
   "metadata": {},
   "source": [
    "## I. b. Adversarially trained classifier"
   ]
  },
  {
   "cell_type": "code",
   "execution_count": null,
   "metadata": {},
   "outputs": [],
   "source": [
    "adv_pubfig_config = {\n",
    "    'dataset': 'pubfig10',\n",
    "    'dataset_mode': 'test',\n",
    "    'classif_model_name': 'pubfig_facenet',\n",
    "    \n",
    "    # Difference! This time we evaluate a classifier that is adversarially trained on the spot.\n",
    "    'classif_mode': 'adversarial_train',     \n",
    "    'relight_model_name': 'dpr',\n",
    "    \n",
    "    'relight_checkpoint_path': '../relighters/DPR/trained_model/trained_model_03.t7',\n",
    "    'learning_rate': 0.02, \n",
    "    'num_iterations': 5, \n",
    "    'epses': [0.1],\n",
    "    'attack_type': 'class_constrained_eot',\n",
    "    'targets': [1, 3],\n",
    "    'debugging': False,\n",
    "\n",
    "}\n",
    "\n",
    "ev = eot_attack_evaluator.AttackEvaluator(adv_pubfig_config, '_results_adv.csv')\n",
    "ev.evaluate()"
   ]
  },
  {
   "cell_type": "markdown",
   "metadata": {},
   "source": [
    "# II. ResNet + Indoor Scenes + multiilum (TBD)"
   ]
  },
  {
   "cell_type": "code",
   "execution_count": null,
   "metadata": {},
   "outputs": [],
   "source": [
    "indoor_configs = [\n",
    "{\n",
    "    'dataset': 'indoor_scenes',\n",
    "    'dataset_mode': 'test',\n",
    "    'classif_model_name': 'resnet_indoor',\n",
    "    'classif_mode': 'normal_pretrained',\n",
    "    'relight_model_name': 'multi_illumination_murmann',\n",
    "    \n",
    "    \n",
    "    'relight_checkpoint_path': '../relighters/multi_illumination/'\\\n",
    "                               'checkpoints/relight/epoch_13.pth',\n",
    "    \n",
    "    # Relighter-specific constant.\n",
    "    'relighter_eps': 1e-4,\n",
    "    \n",
    "    # Learning rate for attack gradient descent.\n",
    "    'learning_rate': 0.05, \n",
    "    \n",
    "    # Number of gradient descent iterations in the attack.\n",
    "    'num_iterations': 5, \n",
    "    \n",
    "    # Gamma correction constant for the multi_illumination relighter.\n",
    "    'gamma': 1.3,\n",
    "    \n",
    "    # Radius of ball of inf-norm of allowed perturbations.\n",
    "    'epses': [0.001, 0.005, 0.01],\n",
    "    \n",
    "    # Constrain the perturbed image to be in the same class as\n",
    "    # the original image.\n",
    "    'attack_type': 'class_constrained_eot',\n",
    "    \n",
    "    # Target label is 9 (warehouse) for all non-warehouse images, otherwise 0 (airport)\n",
    "    'targets': [9, 0],\n",
    "    \n",
    "    'debugging': False,\n",
    "},\n",
    "]"
   ]
  }
 ],
 "metadata": {
  "environment": {
   "name": "pytorch-gpu.1-4.m49",
   "type": "gcloud",
   "uri": "gcr.io/deeplearning-platform-release/pytorch-gpu.1-4:m49"
  },
  "kernelspec": {
   "display_name": "Python 3",
   "language": "python",
   "name": "python3"
  },
  "language_info": {
   "codemirror_mode": {
    "name": "ipython",
    "version": 3
   },
   "file_extension": ".py",
   "mimetype": "text/x-python",
   "name": "python",
   "nbconvert_exporter": "python",
   "pygments_lexer": "ipython3",
   "version": "3.7.6"
  }
 },
 "nbformat": 4,
 "nbformat_minor": 4
}
