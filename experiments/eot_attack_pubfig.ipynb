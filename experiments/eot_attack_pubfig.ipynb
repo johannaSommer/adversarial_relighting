{
 "cells": [
  {
   "cell_type": "code",
   "execution_count": null,
   "metadata": {},
   "outputs": [],
   "source": [
    "import io\n",
    "import matplotlib.image as mpimg \n",
    "import matplotlib.pyplot as plt\n",
    "import numpy as np\n",
    "import os\n",
    "import os.path\n",
    "import pickle\n",
    "import PIL\n",
    "import torch\n",
    "import torchvision\n",
    "import urllib\n",
    "import warnings\n",
    "import sys\n",
    "\n",
    "sys.path.append(os.path.join(os.path.dirname(os.path.realpath('__file__')), '..'))\n",
    "from attacks import eot_attacks\n",
    "from attacks import utils\n",
    "\n",
    "from utils import labels_util\n",
    "from utils import datasets\n",
    "\n",
    "# Disable annoying UserWarning caused by using nn.Upsample\n",
    "# in the relighting model.\n",
    "warnings.filterwarnings(\"ignore\", category=UserWarning) \n",
    "\n",
    "%load_ext autoreload\n",
    "%autoreload 2"
   ]
  },
  {
   "cell_type": "code",
   "execution_count": null,
   "metadata": {},
   "outputs": [],
   "source": [
    "config = {}\n",
    "config['classif_model_name'] = 'pubfig_facenet'\n",
    "config['relight_model_name'] = 'multi_illumination_murmann'\n",
    "config['relighter_eps'] = 1e-4\n",
    "\n",
    "# checkpoint_path = '/nfs/homedirs/musat/adversarial-attacks-by-relighting/new_repo/project-1/'\n",
    "checkpoint_path = '/export/home/acs/stud/a/andreea.musat/prakt/adversarial-attacks-by-relighting/latest_repo/project-1/'\n",
    "checkpoint_path += 'relighters/multi_illumination/checkpoints/relight/epoch_13.pth'\n",
    "\n",
    "relight_model = utils.load_relighting_model(config['relight_model_name'], checkpoint_path)\n",
    "classif_model = utils.load_classification_model(config['classif_model_name'])\n",
    "\n",
    "idx_to_label = labels_util.load_idx_to_label('pubfig10')\n",
    "label_to_idx = {label : idx for idx, label in idx_to_label.items()}"
   ]
  },
  {
   "cell_type": "code",
   "execution_count": null,
   "metadata": {},
   "outputs": [],
   "source": [
    "data_path = '../data/pubfig/PubFig_test'\n",
    "\n",
    "config['attack_type'] = 'class_constrained_eot'\n",
    "config['target_label'] = 0 \n",
    "config['debugging'] = False\n",
    "config['num_iterations'] = 5\n",
    "config['learning_rate'] = 0.1\n",
    "config['gamma'] = 1.3\n",
    "config['eps'] = 0.02"
   ]
  },
  {
   "cell_type": "code",
   "execution_count": null,
   "metadata": {},
   "outputs": [],
   "source": [
    "dataset = datasets.PubFigDataset('../data/pubfig/', mode='test', crop=False)\n",
    "\n",
    "for idx in range(1, len(dataset)):\n",
    "    img, gt_label = dataset[idx]\n",
    "    \n",
    "    config['gt_label'] = gt_label\n",
    "    if gt_label == config['target_label']:\n",
    "        config['target_label'] = 8\n",
    "\n",
    "    result = eot_attacks.do_attack(relight_model, classif_model, img, config)\n",
    "    \n",
    "    print(gt_label, result['orig_label'])\n",
    "    \n",
    "    if 'root_img' in result:\n",
    "        utils.visualize_attack(img, result, idx_to_label)"
   ]
  }
 ],
 "metadata": {
  "kernelspec": {
   "display_name": "Python 3",
   "language": "python",
   "name": "python3"
  },
  "language_info": {
   "codemirror_mode": {
    "name": "ipython",
    "version": 3
   },
   "file_extension": ".py",
   "mimetype": "text/x-python",
   "name": "python",
   "nbconvert_exporter": "python",
   "pygments_lexer": "ipython3",
   "version": "3.5.6"
  }
 },
 "nbformat": 4,
 "nbformat_minor": 4
}
