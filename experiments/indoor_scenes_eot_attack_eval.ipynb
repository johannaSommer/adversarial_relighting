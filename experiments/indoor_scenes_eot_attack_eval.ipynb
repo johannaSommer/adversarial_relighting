{
 "cells": [
  {
   "cell_type": "code",
   "execution_count": 1,
   "metadata": {},
   "outputs": [],
   "source": [
    "import io\n",
    "import matplotlib\n",
    "import matplotlib.image as mpimg \n",
    "import matplotlib.pyplot as plt\n",
    "import numpy as np\n",
    "import os\n",
    "import pandas as pd\n",
    "import pickle\n",
    "import PIL\n",
    "import torch\n",
    "import torchvision\n",
    "import urllib\n",
    "import sys\n",
    "import warnings\n",
    "\n",
    "from torchvision import transforms\n",
    "\n",
    "sys.path.append(os.path.join(os.path.dirname(os.path.realpath('__file__')), '..'))\n",
    "from attacks import eot_attacks\n",
    "from attacks import utils\n",
    "from utils import labels_util\n",
    "from utils import datasets\n",
    "\n",
    "# Disable annoying UserWarning caused by using nn.Upsample\n",
    "# in the relighting model.\n",
    "warnings.filterwarnings(\"ignore\", category=UserWarning) \n",
    "\n",
    "%load_ext autoreload\n",
    "%autoreload 2"
   ]
  },
  {
   "cell_type": "code",
   "execution_count": 4,
   "metadata": {},
   "outputs": [
    {
     "name": "stdout",
     "output_type": "stream",
     "text": [
      "CHECKPOINT FMMMMMMMM:  ../relighters/multi_illumination/checkpoints/relight/epoch_13.pth\n",
      "Loaded the relighter: multi_illumination_murmann.\n",
      "{'warehouse': 9, 'inside_subway': 4, 'livingroom': 6, 'restaurant': 7, 'bedroom': 2, 'casino': 3, 'bar': 1, 'kitchen': 5, 'airport_inside': 0, 'subway': 8}\n"
     ]
    }
   ],
   "source": [
    "config = {}\n",
    "config['classif_model_name'] = 'resnet_indoor'\n",
    "config['relight_model_name'] = 'multi_illumination_murmann'\n",
    "config['relighter_eps'] = 1e-4\n",
    "\n",
    "checkpoint_path = '../'\n",
    "checkpoint_path += 'relighters/multi_illumination/checkpoints/relight/epoch_13.pth'\n",
    "\n",
    "relight_model = utils.load_relighting_model(config['relight_model_name'], checkpoint_path)\n",
    "classif_model = utils.load_classification_model(config['classif_model_name'])\n",
    "\n",
    "idx_to_label = labels_util.load_idx_to_label('indoor_scenes')\n",
    "label_to_idx = {label : idx for idx, label in idx_to_label.items()}\n",
    "\n",
    "print(label_to_idx)"
   ]
  },
  {
   "cell_type": "code",
   "execution_count": 5,
   "metadata": {},
   "outputs": [],
   "source": [
    "config['target_label'] = label_to_idx['warehouse']  # label for 'warehouse' \n",
    "config['debugging'] = False\n",
    "config['num_iterations'] = 5\n",
    "config['learning_rate'] = 0.05\n",
    "config['attack_type'] = 'class_constrained_eot'\n",
    "config['gamma'] = 1.3"
   ]
  },
  {
   "cell_type": "code",
   "execution_count": 10,
   "metadata": {},
   "outputs": [
    {
     "name": "stdout",
     "output_type": "stream",
     "text": [
      "OK!\n",
      "OK!\n"
     ]
    }
   ],
   "source": [
    "dataset = datasets.IndoorScenesDataset('../data/indoor-scenes/Test.csv', \n",
    "                                       '../data/indoor-scenes/')\n",
    "\n",
    "for i in range(2):\n",
    "    for idx in range(len(dataset)):\n",
    "        img, gt_label = dataset[idx]\n",
    "    \n",
    "    print('OK!')"
   ]
  },
  {
   "cell_type": "code",
   "execution_count": 4,
   "metadata": {},
   "outputs": [],
   "source": [
    "# correct = 0\n",
    "# adversarial = 0\n",
    "# result_has_nan = 0\n",
    "\n",
    "# dataset = datasets.IndoorScenesDataset('../data/indoor-scenes/Test.csv', \n",
    "#                                        '../data/indoor-scenes/')\n",
    "    \n",
    "# for eps in [0.01]:\n",
    "#     config['eps'] = eps\n",
    "#     correct = 0\n",
    "#     adversarial = 0\n",
    "#     result_has_nan = 0\n",
    "\n",
    "#     save_to_file = True\n",
    "\n",
    "#     count_classes = {}\n",
    "#     model_accuracies = []\n",
    "#     attack_succ_rates = []\n",
    "\n",
    "#     for idx in range(len(dataset)):\n",
    "#         img, gt_label = dataset[idx]\n",
    "\n",
    "#         # Keep the statistics\n",
    "#         if gt_label in count_classes:\n",
    "#             count_classes[gt_label] += 1\n",
    "#         else:\n",
    "#             count_classes[gt_label] = 1\n",
    "\n",
    "#         config['gt_label'] = gt_label\n",
    "#         if gt_label == config['target_label']:\n",
    "#             config['target_label'] = label_to_idx['kitchen']\n",
    "\n",
    "#         result = eot_attacks.do_attack(relight_model, classif_model, img, config)\n",
    "\n",
    "#         if result['orig_label'] == gt_label:\n",
    "#             correct += 1\n",
    "\n",
    "#             if result['adv_label'] == config['target_label']:\n",
    "#                 adversarial += 1\n",
    "\n",
    "#             # Randomly visualize 25% of the attacks.\n",
    "#             if np.random.random() < 1. and result['adv_label'] is not None:\n",
    "#                 eps_str = 'eps_{}_'.format(config['eps'])\n",
    "#                 utils.visualize_attack(img, result, idx_to_label)\n",
    "\n",
    "#             print('eps {}, Current index: {}, Correct: {}, Adversarial: {}'.format(\n",
    "#                 config['eps'], idx, correct, adversarial))\n",
    "\n",
    "#         accuracy = correct / (idx + 1)\n",
    "#         attack_succ_rate = adversarial / correct\n",
    "\n",
    "#         if idx > 0 and \\\n",
    "#            np.abs(accuracy - model_accuracies[-1]) < 1e-4 and \\\n",
    "#            np.abs(attack_succ_rate - attack_succ_rates[-1]) < 1e-4:\n",
    "#             converged = True\n",
    "\n",
    "#         model_accuracies.append(accuracy)\n",
    "#         attack_succ_rates.append(attack_succ_rate)\n",
    "\n",
    "#         plt.plot(np.arange(len(model_accuracies)), model_accuracies, c='red')\n",
    "#         plt.title('Classifier accuracy')\n",
    "#         plt.xlabel('Dataset index')\n",
    "#         plt.ylabel('Accuracy')\n",
    "#         plt.close()\n",
    "\n",
    "#         plt.plot(np.arange(len(attack_succ_rates)), attack_succ_rates, c='blue')\n",
    "#         plt.title('Attack success rate')\n",
    "#         plt.xlabel('Dataset index')\n",
    "#         plt.ylabel('Success rate')\n",
    "#         plt.close()"
   ]
  },
  {
   "cell_type": "code",
   "execution_count": null,
   "metadata": {},
   "outputs": [],
   "source": [
    "config['attack_type'] = 'random_root'\n",
    "config['batch_size'] = 32\n",
    "config['num_batches'] = 50\n",
    "config['num_classes'] = 10\n",
    "config['eps'] = 0.02\n",
    "\n",
    "dataset = datasets.IndoorScenesDataset('../data/indoor-scenes/Test.csv', \n",
    "                                       '../data/indoor-scenes/')\n",
    "\n",
    "for idx in range(len(dataset)):\n",
    "    img, gt_label = dataset[idx]\n",
    "    \n",
    "    config['gt_label'] = gt_label\n",
    "    if gt_label == config['target_label']:\n",
    "        config['target_label'] = label_to_idx['bedroom']\n",
    "\n",
    "    result = eot_attacks.do_attack(relight_model, classif_model, img, config)\n",
    "    utils.visualize_attack(img, result, idx_to_label)\n",
    "    \n",
    "    config['target_label'] = label_to_idx['warehouse']"
   ]
  }
 ],
 "metadata": {
  "kernelspec": {
   "display_name": "Python 3",
   "language": "python",
   "name": "python3"
  },
  "language_info": {
   "codemirror_mode": {
    "name": "ipython",
    "version": 3
   },
   "file_extension": ".py",
   "mimetype": "text/x-python",
   "name": "python",
   "nbconvert_exporter": "python",
   "pygments_lexer": "ipython3",
   "version": "3.7.1"
  }
 },
 "nbformat": 4,
 "nbformat_minor": 4
}
